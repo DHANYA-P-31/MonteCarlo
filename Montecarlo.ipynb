{
  "nbformat": 4,
  "nbformat_minor": 0,
  "metadata": {
    "colab": {
      "provenance": [],
      "authorship_tag": "ABX9TyNh5CUEtfzUhZOAAzeGtDVe",
      "include_colab_link": true
    },
    "kernelspec": {
      "name": "python3",
      "display_name": "Python 3"
    },
    "language_info": {
      "name": "python"
    }
  },
  "cells": [
    {
      "cell_type": "markdown",
      "metadata": {
        "id": "view-in-github",
        "colab_type": "text"
      },
      "source": [
        "<a href=\"https://colab.research.google.com/github/DHANYA-P-31/MonteCarlo/blob/main/Montecarlo.ipynb\" target=\"_parent\"><img src=\"https://colab.research.google.com/assets/colab-badge.svg\" alt=\"Open In Colab\"/></a>"
      ]
    },
    {
      "cell_type": "code",
      "execution_count": 2,
      "metadata": {
        "colab": {
          "base_uri": "https://localhost:8080/"
        },
        "id": "dd8PZ1zG5g2b",
        "outputId": "6cc99416-e8fa-4df3-dd27-0ebc1e26533d"
      },
      "outputs": [
        {
          "output_type": "stream",
          "name": "stdout",
          "text": [
            "Theoretical Expected Portfolio Return (E[Rp]): 0.2826\n",
            "Theoretical Portfolio Standard Deviation (σp): 0.0412\n",
            "\n",
            "Number of portfolios: 1\n",
            "Simulated Expected Portfolio Return (E[Rp]): 0.2114\n",
            "Simulated Portfolio Standard Deviation (σp): 0.0000\n",
            "Simulated Portfolio Variance (σ²p): 0.0000\n",
            "\n",
            "Number of portfolios: 50\n",
            "Simulated Expected Portfolio Return (E[Rp]): 0.2762\n",
            "Simulated Portfolio Standard Deviation (σp): 0.0393\n",
            "Simulated Portfolio Variance (σ²p): 0.0015\n",
            "\n",
            "Number of portfolios: 100\n",
            "Simulated Expected Portfolio Return (E[Rp]): 0.2832\n",
            "Simulated Portfolio Standard Deviation (σp): 0.0404\n",
            "Simulated Portfolio Variance (σ²p): 0.0016\n",
            "\n",
            "Number of portfolios: 200\n",
            "Simulated Expected Portfolio Return (E[Rp]): 0.2815\n",
            "Simulated Portfolio Standard Deviation (σp): 0.0439\n",
            "Simulated Portfolio Variance (σ²p): 0.0019\n",
            "\n",
            "Number of portfolios: 500\n",
            "Simulated Expected Portfolio Return (E[Rp]): 0.2818\n",
            "Simulated Portfolio Standard Deviation (σp): 0.0437\n",
            "Simulated Portfolio Variance (σ²p): 0.0019\n",
            "\n",
            "Number of portfolios: 1000\n",
            "Simulated Expected Portfolio Return (E[Rp]): 0.2831\n",
            "Simulated Portfolio Standard Deviation (σp): 0.0411\n",
            "Simulated Portfolio Variance (σ²p): 0.0017\n",
            "\n",
            "Number of portfolios: 1500\n",
            "Simulated Expected Portfolio Return (E[Rp]): 0.2825\n",
            "Simulated Portfolio Standard Deviation (σp): 0.0427\n",
            "Simulated Portfolio Variance (σ²p): 0.0018\n",
            "\n",
            "Number of portfolios: 2500\n",
            "Simulated Expected Portfolio Return (E[Rp]): 0.2822\n",
            "Simulated Portfolio Standard Deviation (σp): 0.0408\n",
            "Simulated Portfolio Variance (σ²p): 0.0017\n",
            "\n",
            "Number of portfolios: 5000\n",
            "Simulated Expected Portfolio Return (E[Rp]): 0.2824\n",
            "Simulated Portfolio Standard Deviation (σp): 0.0412\n",
            "Simulated Portfolio Variance (σ²p): 0.0017\n",
            "\n",
            "Number of portfolios: 10000\n",
            "Simulated Expected Portfolio Return (E[Rp]): 0.2824\n",
            "Simulated Portfolio Standard Deviation (σp): 0.0412\n",
            "Simulated Portfolio Variance (σ²p): 0.0017\n",
            "\n"
          ]
        }
      ],
      "source": [
        "import numpy as np\n",
        "\n",
        "# Input data\n",
        "betas = [2.0, 0.5, 2.0, 0.2, 1.5, 2.3, 4.0, -1.5, 3.2, 4.1, 5.3, 1.2, -2.2, 4.0, 3.5, 0.7, 2.1, 3.0, 4.3, 0.2]\n",
        "variances = [0.0025, 0.0016, 0.0009, 0.0009, 0.0025, 0.0004, 0.0004, 0.0001, 0.0025, 0.0025, 0.0009, 0.0016, 0.0001, 0.0025, 0.0016, 0.0009, 0.0001, 0.0009, 0.0016, 0.0025]\n",
        "rf = 0.02  # Risk-free rate\n",
        "em = 0.15  # Expected market return\n",
        "sm = 0.02  # Corrected market standard deviation (sqrt(0.0004))\n",
        "n_stocks = 20\n",
        "n_values = [1, 50, 100, 200, 500, 1000, 1500, 2500, 5000, 10000]\n",
        "\n",
        "# Theoretical calculations\n",
        "beta_p = np.mean(betas)  # Portfolio beta\n",
        "e_rp_theoretical = rf + beta_p * (em - rf)  # Theoretical E[Rp]\n",
        "systematic_var = (beta_p ** 2) * (sm ** 2)  # Systematic variance\n",
        "avg_error_var = np.mean(variances) / n_stocks  # Idiosyncratic variance\n",
        "sigma_p_theoretical = np.sqrt(systematic_var + avg_error_var)  # Theoretical σp\n",
        "\n",
        "print(f\"Theoretical Expected Portfolio Return (E[Rp]): {e_rp_theoretical:.4f}\")\n",
        "print(f\"Theoretical Portfolio Standard Deviation (σp): {sigma_p_theoretical:.4f}\\n\")\n",
        "\n",
        "# Monte Carlo Simulation\n",
        "for n_simulations in n_values:\n",
        "    portfolio_returns = np.zeros(n_simulations)\n",
        "\n",
        "    # Simulate market returns\n",
        "    market_returns = np.random.normal(em, sm, n_simulations)\n",
        "\n",
        "    # Simulate portfolio returns\n",
        "    for i in range(n_simulations):\n",
        "        stock_returns = []\n",
        "        for j in range(n_stocks):\n",
        "            expected_return = rf + betas[j] * (em - rf)  # CAPM expected return\n",
        "            market_premium = betas[j] * (market_returns[i] - em)  # Market-driven return\n",
        "            error = np.random.normal(0, np.sqrt(variances[j]))  # Idiosyncratic error\n",
        "            stock_return = expected_return + market_premium + error\n",
        "            stock_returns.append(stock_return)\n",
        "        portfolio_returns[i] = np.mean(stock_returns)  # Equally weighted portfolio return\n",
        "\n",
        "    # Calculate statistics\n",
        "    e_rp_simulated = np.mean(portfolio_returns)\n",
        "    sigma_p_simulated = np.std(portfolio_returns)\n",
        "    variance_p_simulated = sigma_p_simulated ** 2\n",
        "\n",
        "    # Print results\n",
        "    print(f\"Number of portfolios: {n_simulations}\")\n",
        "    print(f\"Simulated Expected Portfolio Return (E[Rp]): {e_rp_simulated:.4f}\")\n",
        "    print(f\"Simulated Portfolio Standard Deviation (σp): {sigma_p_simulated:.4f}\")\n",
        "    print(f\"Simulated Portfolio Variance (σ²p): {variance_p_simulated:.4f}\\n\")"
      ]
    },
    {
      "cell_type": "code",
      "source": [
        "# Arrays to store errors and market premiums\n",
        "errors = np.zeros((n_simulations, n_stocks))  # Store errors for each stock and simulation\n",
        "market_premiums = np.zeros(n_simulations)  # Store Rm - Rf for each simulation\n",
        "\n",
        "# Simulate market returns\n",
        "market_returns = np.random.normal(em, sm, n_simulations)\n",
        "market_premiums = market_returns - rf  # Rm - Rf\n",
        "\n",
        "# Simulate errors for each stock\n",
        "for j in range(n_stocks):\n",
        "    errors[:, j] = np.random.normal(0, np.sqrt(variances[j]), n_simulations)\n",
        "\n",
        "# a. Average of the error term (pick any stock, e.g., Stock 1)\n",
        "error_avg = np.mean(errors[:, 0])  # Average of errors for Stock 1\n",
        "\n",
        "# b. Average of the product of error pairs (e.g., Stock 1 and Stock 2)\n",
        "error_pairs_product = errors[:, 0] * errors[:, 1]  # Product of errors for Stock 1 and Stock 2\n",
        "error_pairs_avg = np.mean(error_pairs_product)\n",
        "\n",
        "# c. Average of error * (Rm - Rf) (using Stock 1)\n",
        "error_market_premium_product = errors[:, 0] * market_premiums\n",
        "error_market_premium_avg = np.mean(error_market_premium_product)\n",
        "\n",
        "# Print results\n",
        "print(f\"a. Average of the Error Term (Stock 1): {error_avg:.6f}\")\n",
        "print(f\"b. Average of the Product of Error Pairs (Stock 1 and Stock 2): {error_pairs_avg:.6f}\")\n",
        "print(f\"c. Average of Error * (Rm - Rf) (Stock 1): {error_market_premium_avg:.6f}\")"
      ],
      "metadata": {
        "colab": {
          "base_uri": "https://localhost:8080/"
        },
        "id": "nOLD0yVbzt-j",
        "outputId": "92819c21-d637-49ea-f840-6a61dfb42e99"
      },
      "execution_count": 3,
      "outputs": [
        {
          "output_type": "stream",
          "name": "stdout",
          "text": [
            "a. Average of the Error Term (Stock 1): -0.000542\n",
            "b. Average of the Product of Error Pairs (Stock 1 and Stock 2): -0.000010\n",
            "c. Average of Error * (Rm - Rf) (Stock 1): -0.000092\n"
          ]
        }
      ]
    }
  ]
}